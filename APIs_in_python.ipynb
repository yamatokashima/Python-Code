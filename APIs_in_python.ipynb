{
 "cells": [
  {
   "cell_type": "markdown",
   "metadata": {
    "colab_type": "text",
    "id": "88tCXKMAp2FX"
   },
   "source": [
    "<img src=\"http://imgur.com/1ZcRyrc.png\" style=\"float: left; margin: 20px; height: 55px\">\n",
    "\n",
    "#  APIs\n",
    "\n",
    "---\n",
    "\n",
    "<a id=\"learning-objectives\"></a>\n",
    "## Learning Objectives\n",
    "*After completing this notebook, you will be able to:*\n",
    "\n",
    "- Understand the fundamentals of web communication.\n",
    "- Obtain data from an API.\n",
    "- Use Python, API authentication and parameters to make more complex requests.\n"
   ]
  },
  {
   "cell_type": "markdown",
   "metadata": {},
   "source": [
    "#  What Is an API?\n",
    "\n",
    "---\n",
    "\n",
    "API stands for **Applied Programming Interface**\n",
    "\n",
    "An API provides a connection point between two computers, typically on the internet, used to interact with each other. APIs are commonly used to send or receive data. They also define what data can be sent/received and through what commands/syntax.\n",
    "\n",
    "\n",
    "Let's start by importing the **requests** library, which we'll be using to make API requests"
   ]
  },
  {
   "cell_type": "code",
   "execution_count": 2,
   "metadata": {},
   "outputs": [],
   "source": [
    "import requests"
   ]
  },
  {
   "cell_type": "markdown",
   "metadata": {},
   "source": [
    "Let's make a request to the astronauts API and view the resulting JSON. The first thing we do is make a GET request. This is really simple!"
   ]
  },
  {
   "cell_type": "code",
   "execution_count": 4,
   "metadata": {},
   "outputs": [],
   "source": [
    "astro_requests = requests.get('http://api.open-notify.org/astros.json')"
   ]
  },
  {
   "cell_type": "markdown",
   "metadata": {},
   "source": [
    "An alternative, neater way to make the request would be to define the URL as a variable instead of pasting it straight into `.get()`, like this:"
   ]
  },
  {
   "cell_type": "code",
   "execution_count": null,
   "metadata": {},
   "outputs": [],
   "source": [
    "astro_url = 'http://api.open-notify.org/astros.json'\n",
    "astro_requests = resquests.get(astro_url)"
   ]
  },
  {
   "cell_type": "markdown",
   "metadata": {},
   "source": [
    "The thing we get back from a GET request is a `request` object."
   ]
  },
  {
   "cell_type": "code",
   "execution_count": 5,
   "metadata": {},
   "outputs": [
    {
     "data": {
      "text/plain": [
       "requests.models.Response"
      ]
     },
     "execution_count": 5,
     "metadata": {},
     "output_type": "execute_result"
    }
   ],
   "source": [
    "type(astro_requests)"
   ]
  },
  {
   "cell_type": "markdown",
   "metadata": {},
   "source": [
    "This is an object that has a few different bits of information bundled up inside it, all of which have been sent back to us by the servers at `open-notify.org`, including...\n",
    "\n",
    "The status code, which tells us whether the request was successful or not. A status code of `200` means the request was a success, whereas a status code of `400` means there was an error. You might remember seeing `404: error` messages in your browser when you try to load a webpage that doesn't exist- that's also an example of a status code! \n",
    "\n",
    "We can check the status code like this:"
   ]
  },
  {
   "cell_type": "code",
   "execution_count": 6,
   "metadata": {},
   "outputs": [
    {
     "data": {
      "text/plain": [
       "200"
      ]
     },
     "execution_count": 6,
     "metadata": {},
     "output_type": "execute_result"
    }
   ],
   "source": [
    "astro_requests.status_code"
   ]
  },
  {
   "cell_type": "markdown",
   "metadata": {},
   "source": [
    "We can also access the JSON that's returned by the API; this is also bundled up inside our `request` object."
   ]
  },
  {
   "cell_type": "code",
   "execution_count": 7,
   "metadata": {},
   "outputs": [
    {
     "data": {
      "text/plain": [
       "{'message': 'success',\n",
       " 'people': [{'name': 'Sergey Prokopyev', 'craft': 'ISS'},\n",
       "  {'name': 'Dmitry Petelin', 'craft': 'ISS'},\n",
       "  {'name': 'Frank Rubio', 'craft': 'ISS'},\n",
       "  {'name': 'Nicole Mann', 'craft': 'ISS'},\n",
       "  {'name': 'Josh Cassada', 'craft': 'ISS'},\n",
       "  {'name': 'Koichi Wakata', 'craft': 'ISS'},\n",
       "  {'name': 'Anna Kikina', 'craft': 'ISS'},\n",
       "  {'name': 'Fei Junlong', 'craft': 'Shenzhou 15'},\n",
       "  {'name': 'Deng Qingming', 'craft': 'Shenzhou 15'},\n",
       "  {'name': 'Zhang Lu', 'craft': 'Shenzhou 15'}],\n",
       " 'number': 10}"
      ]
     },
     "execution_count": 7,
     "metadata": {},
     "output_type": "execute_result"
    }
   ],
   "source": [
    "astro_requests.json()"
   ]
  },
  {
   "cell_type": "markdown",
   "metadata": {},
   "source": [
    "Let's create a variable that contains the JSON only."
   ]
  },
  {
   "cell_type": "code",
   "execution_count": 10,
   "metadata": {},
   "outputs": [
    {
     "data": {
      "text/plain": [
       "{'message': 'success',\n",
       " 'people': [{'name': 'Sergey Prokopyev', 'craft': 'ISS'},\n",
       "  {'name': 'Dmitry Petelin', 'craft': 'ISS'},\n",
       "  {'name': 'Frank Rubio', 'craft': 'ISS'},\n",
       "  {'name': 'Nicole Mann', 'craft': 'ISS'},\n",
       "  {'name': 'Josh Cassada', 'craft': 'ISS'},\n",
       "  {'name': 'Koichi Wakata', 'craft': 'ISS'},\n",
       "  {'name': 'Anna Kikina', 'craft': 'ISS'},\n",
       "  {'name': 'Fei Junlong', 'craft': 'Shenzhou 15'},\n",
       "  {'name': 'Deng Qingming', 'craft': 'Shenzhou 15'},\n",
       "  {'name': 'Zhang Lu', 'craft': 'Shenzhou 15'}],\n",
       " 'number': 10}"
      ]
     },
     "execution_count": 10,
     "metadata": {},
     "output_type": "execute_result"
    }
   ],
   "source": [
    "astro_json = astro_requests.json()\n",
    "astro_json"
   ]
  },
  {
   "cell_type": "markdown",
   "metadata": {},
   "source": [
    "Let's check it's type- it's a dictionary!"
   ]
  },
  {
   "cell_type": "code",
   "execution_count": 12,
   "metadata": {},
   "outputs": [
    {
     "data": {
      "text/plain": [
       "dict"
      ]
     },
     "execution_count": 12,
     "metadata": {},
     "output_type": "execute_result"
    }
   ],
   "source": [
    "type(astro_json)"
   ]
  },
  {
   "cell_type": "markdown",
   "metadata": {},
   "source": [
    "Now we can use our dictionary and list-indexing skills to access information inside the JSON."
   ]
  },
  {
   "cell_type": "code",
   "execution_count": 13,
   "metadata": {},
   "outputs": [
    {
     "data": {
      "text/plain": [
       "dict_keys(['message', 'people', 'number'])"
      ]
     },
     "execution_count": 13,
     "metadata": {},
     "output_type": "execute_result"
    }
   ],
   "source": [
    "astro_json.keys()"
   ]
  },
  {
   "cell_type": "code",
   "execution_count": 14,
   "metadata": {},
   "outputs": [
    {
     "data": {
      "text/plain": [
       "[{'name': 'Sergey Prokopyev', 'craft': 'ISS'},\n",
       " {'name': 'Dmitry Petelin', 'craft': 'ISS'},\n",
       " {'name': 'Frank Rubio', 'craft': 'ISS'},\n",
       " {'name': 'Nicole Mann', 'craft': 'ISS'},\n",
       " {'name': 'Josh Cassada', 'craft': 'ISS'},\n",
       " {'name': 'Koichi Wakata', 'craft': 'ISS'},\n",
       " {'name': 'Anna Kikina', 'craft': 'ISS'},\n",
       " {'name': 'Fei Junlong', 'craft': 'Shenzhou 15'},\n",
       " {'name': 'Deng Qingming', 'craft': 'Shenzhou 15'},\n",
       " {'name': 'Zhang Lu', 'craft': 'Shenzhou 15'}]"
      ]
     },
     "execution_count": 14,
     "metadata": {},
     "output_type": "execute_result"
    }
   ],
   "source": [
    "astro_json['people']"
   ]
  },
  {
   "cell_type": "code",
   "execution_count": 15,
   "metadata": {},
   "outputs": [
    {
     "data": {
      "text/plain": [
       "{'name': 'Sergey Prokopyev', 'craft': 'ISS'}"
      ]
     },
     "execution_count": 15,
     "metadata": {},
     "output_type": "execute_result"
    }
   ],
   "source": [
    "astro_json['people'][0]"
   ]
  },
  {
   "cell_type": "code",
   "execution_count": 17,
   "metadata": {},
   "outputs": [
    {
     "data": {
      "text/plain": [
       "'Sergey Prokopyev'"
      ]
     },
     "execution_count": 17,
     "metadata": {},
     "output_type": "execute_result"
    }
   ],
   "source": [
    "astro_json['people'][0]['name']"
   ]
  },
  {
   "cell_type": "markdown",
   "metadata": {},
   "source": [
    "## <font color='green'> Exercise 1: Dad jokes\n",
    "---\n",
    "\n",
    "We will play around with a new API: one that returns dad jokes.\n",
    "    \n",
    "https://icanhazdadjoke.com/api\n",
    "    \n",
    "Use the documentation to find the url that returns *a random dad joke*. Fill in the gap in the code below to make a GET request to the correct url."
   ]
  },
  {
   "cell_type": "code",
   "execution_count": 18,
   "metadata": {},
   "outputs": [
    {
     "data": {
      "text/plain": [
       "<Response [200]>"
      ]
     },
     "execution_count": 18,
     "metadata": {},
     "output_type": "execute_result"
    }
   ],
   "source": [
    "dad_joke_url = 'https://icanhazdadjoke.com/'\n",
    "dad_joke_request = requests.get(\n",
    "    url=dad_joke_url,\n",
    "    headers={'Accept': 'application/json'} # specify we want JSON back\n",
    ")\n",
    "dad_joke_request"
   ]
  },
  {
   "cell_type": "markdown",
   "metadata": {},
   "source": [
    "Now, check the status code of the request:"
   ]
  },
  {
   "cell_type": "code",
   "execution_count": 24,
   "metadata": {},
   "outputs": [],
   "source": [
    "dad_joke_url = dad_joke_request.json()"
   ]
  },
  {
   "cell_type": "markdown",
   "metadata": {},
   "source": [
    "Next, create a variable that contains the JSON returned by the API"
   ]
  },
  {
   "cell_type": "code",
   "execution_count": 30,
   "metadata": {},
   "outputs": [],
   "source": [
    "dad_joke_json = dad_joke_request.json()# FILL THIS IN "
   ]
  },
  {
   "cell_type": "markdown",
   "metadata": {},
   "source": [
    "Inspect the dictionary and extract the joke itself as a string"
   ]
  },
  {
   "cell_type": "code",
   "execution_count": 31,
   "metadata": {},
   "outputs": [
    {
     "name": "stdout",
     "output_type": "stream",
     "text": [
      "{'id': 'HYgiVDAscFd', 'joke': 'People are making apocalypse jokes like there’s no tomorrow.', 'status': 200}\n"
     ]
    }
   ],
   "source": [
    "dad_joke = dad_joke_json\n",
    "print(dad_joke)"
   ]
  },
  {
   "cell_type": "markdown",
   "metadata": {},
   "source": [
    "### <font color='green'>  Stretch\n",
    "\n",
    "Now write a `for` loop to call the API 10 times and store the 10 jokes in a list.\n",
    "\n",
    "_You may optionally decide to create a function to do the fetching for you_"
   ]
  },
  {
   "cell_type": "code",
   "execution_count": null,
   "metadata": {},
   "outputs": [],
   "source": [
    "dad_jokes = []\n",
    "\n",
    "for i in range(10):\n",
    "    if dad_joke:\n",
    "        dad_jokes.append(dad_joke)\n",
    "\n",
    "print(dad_jokes)"
   ]
  },
  {
   "cell_type": "code",
   "execution_count": 75,
   "metadata": {},
   "outputs": [
    {
     "name": "stdin",
     "output_type": "stream",
     "text": [
      "how many funnies do you want?:  1\n"
     ]
    },
    {
     "data": {
      "text/plain": [
       "['Why don’t seagulls fly over the bay? Because then they’d be bay-gulls!']"
      ]
     },
     "execution_count": 75,
     "metadata": {},
     "output_type": "execute_result"
    }
   ],
   "source": [
    "def get_dad_joke():\n",
    "    dad_joke_url = 'https://icanhazdadjoke.com'\n",
    "    dad_joke_request = requests.get(url=dad_joke_url,\n",
    "                                    headers={'Accept': 'application/json'})\n",
    "    joke = dad_joke_request.json()[\"joke\"]\n",
    "    return joke\n",
    "\n",
    "def get_alot_of_funny(num):\n",
    "    jokes = []\n",
    "    for i in range(num):\n",
    "        jokes.append(get_dad_joke())\n",
    "    return jokes\n",
    "        \n",
    "def main():\n",
    "    num = int(input('how many funnies do you want?: '))\n",
    "    jokes = get_alot_of_funny(num) \n",
    "    return jokes\n",
    "main()"
   ]
  },
  {
   "cell_type": "code",
   "execution_count": 70,
   "metadata": {},
   "outputs": [
    {
     "data": {
      "text/plain": [
       "[{'id': '82wHlbaapzd',\n",
       "  'joke': \"Me: If humans lose the ability to hear high frequency volumes as they get older, can my 4 week old son hear a dog whistle?\\r\\n\\r\\nDoctor: No, humans can never hear that high of a frequency no matter what age they are.\\r\\n\\r\\nMe: Trick question... dogs can't whistle.\",\n",
       "  'status': 200},\n",
       " {'id': '4MmjbFlbah',\n",
       "  'joke': 'I cut my finger chopping cheese, but I think that I may have grater problems.',\n",
       "  'status': 200},\n",
       " {'id': 'cUnWLRZ01wc',\n",
       "  'joke': 'What is the leading cause of dry skin? Towels',\n",
       "  'status': 200},\n",
       " {'id': 'DAskq4oWSvc',\n",
       "  'joke': 'I was just looking at my ceiling. Not sure if it’s the best ceiling in the world, but it’s definitely up there.',\n",
       "  'status': 200},\n",
       " {'id': 'F6wPR71Dtzd',\n",
       "  'joke': 'I’m reading a book on the history of glue – can’t put it down.',\n",
       "  'status': 200},\n",
       " {'id': 'cp4TCdahqc',\n",
       "  'joke': 'I got fired from a florist, apparently I took too many leaves.',\n",
       "  'status': 200},\n",
       " {'id': 'n3gVSC5oOmb',\n",
       "  'joke': \"What's black and white and read all over? The newspaper.\",\n",
       "  'status': 200},\n",
       " {'id': '5hNJexX8prc',\n",
       "  'joke': 'How do you fix a damaged jack-o-lantern? You use a pumpkin patch.',\n",
       "  'status': 200},\n",
       " {'id': 'gNRnWvzdiib',\n",
       "  'joke': 'Sgt.: Commissar! Commissar! The troops are revolting! Commissar: Well, you’re pretty repulsive yourself.',\n",
       "  'status': 200},\n",
       " {'id': 'VKe2gNCQnb',\n",
       "  'joke': 'What do you call a group of killer whales playing instruments? An Orca-stra.',\n",
       "  'status': 200}]"
      ]
     },
     "execution_count": 70,
     "metadata": {},
     "output_type": "execute_result"
    }
   ],
   "source": [
    "import requests\n",
    "def ten_apis(url):\n",
    "    output = []\n",
    "    for i in range(0, 10):\n",
    "        api_request = requests.get(url, headers={'Accept': 'application/json'})\n",
    "        if api_request.status_code == 200:\n",
    "            output.append(api_request.json())\n",
    "        else:\n",
    "            output = f'Error code {api_request.status_code}'\n",
    "    return output\n",
    "\n",
    "ten_apis('https://icanhazdadjoke.com')"
   ]
  },
  {
   "cell_type": "markdown",
   "metadata": {},
   "source": [
    "Use your Python skills to find the longest joke in your list (in terms of number of characters)"
   ]
  },
  {
   "cell_type": "code",
   "execution_count": 74,
   "metadata": {},
   "outputs": [
    {
     "name": "stdout",
     "output_type": "stream",
     "text": [
      "50\n",
      "79\n",
      "81\n",
      "98\n",
      "I used to have a job at a calendar factory but I got the sack because I took a couple of days off.\n"
     ]
    }
   ],
   "source": [
    "jokes = ten_apis('https://icanhazdadjoke.com')\n",
    "longest_joke = ''\n",
    "\n",
    "for joke in jokes:\n",
    "    if len(joke['joke']) > len(longest_joke):\n",
    "        longest_joke = joke['joke']\n",
    "        print(len(longest_joke))\n",
    "ten_apis('https://icanhazdadjoke.com')\n",
    "print(longest_joke)"
   ]
  },
  {
   "cell_type": "markdown",
   "metadata": {},
   "source": [
    "#   Getting data from APIs\n",
    "---\n",
    "\n",
    "Let's look at another API that actually returns some data, in this case about the Star Wars universe.\n",
    "\n",
    "We will use the Star Wars API at https://swapi.dev.\n",
    "    \n",
    "Their \"root\" API returns all the possible API endpoints and their urls, let's start there."
   ]
  },
  {
   "cell_type": "code",
   "execution_count": 79,
   "metadata": {},
   "outputs": [],
   "source": [
    "star_wars_root = 'https://swapi.dev/api/'\n",
    "star_wars_result = requests.get(star_wars_root)\n",
    "star_wars_result.raise_for_status() # throws an error if we don't get a 200 code"
   ]
  },
  {
   "cell_type": "markdown",
   "metadata": {},
   "source": [
    "Let's extract the JSON and see what possible endpoints there are"
   ]
  },
  {
   "cell_type": "code",
   "execution_count": 80,
   "metadata": {},
   "outputs": [
    {
     "data": {
      "text/plain": [
       "{'people': 'https://swapi.dev/api/people/',\n",
       " 'planets': 'https://swapi.dev/api/planets/',\n",
       " 'films': 'https://swapi.dev/api/films/',\n",
       " 'species': 'https://swapi.dev/api/species/',\n",
       " 'vehicles': 'https://swapi.dev/api/vehicles/',\n",
       " 'starships': 'https://swapi.dev/api/starships/'}"
      ]
     },
     "execution_count": 80,
     "metadata": {},
     "output_type": "execute_result"
    }
   ],
   "source": [
    "star_wars_result.json()"
   ]
  },
  {
   "cell_type": "markdown",
   "metadata": {},
   "source": [
    "Let's look at the one for vehicles"
   ]
  },
  {
   "cell_type": "code",
   "execution_count": 83,
   "metadata": {
    "scrolled": true,
    "tags": []
   },
   "outputs": [
    {
     "data": {
      "text/plain": [
       "{'count': 39,\n",
       " 'next': 'https://swapi.dev/api/vehicles/?page=2',\n",
       " 'previous': None,\n",
       " 'results': [{'name': 'Sand Crawler',\n",
       "   'model': 'Digger Crawler',\n",
       "   'manufacturer': 'Corellia Mining Corporation',\n",
       "   'cost_in_credits': '150000',\n",
       "   'length': '36.8 ',\n",
       "   'max_atmosphering_speed': '30',\n",
       "   'crew': '46',\n",
       "   'passengers': '30',\n",
       "   'cargo_capacity': '50000',\n",
       "   'consumables': '2 months',\n",
       "   'vehicle_class': 'wheeled',\n",
       "   'pilots': [],\n",
       "   'films': ['https://swapi.dev/api/films/1/',\n",
       "    'https://swapi.dev/api/films/5/'],\n",
       "   'created': '2014-12-10T15:36:25.724000Z',\n",
       "   'edited': '2014-12-20T21:30:21.661000Z',\n",
       "   'url': 'https://swapi.dev/api/vehicles/4/'},\n",
       "  {'name': 'T-16 skyhopper',\n",
       "   'model': 'T-16 skyhopper',\n",
       "   'manufacturer': 'Incom Corporation',\n",
       "   'cost_in_credits': '14500',\n",
       "   'length': '10.4 ',\n",
       "   'max_atmosphering_speed': '1200',\n",
       "   'crew': '1',\n",
       "   'passengers': '1',\n",
       "   'cargo_capacity': '50',\n",
       "   'consumables': '0',\n",
       "   'vehicle_class': 'repulsorcraft',\n",
       "   'pilots': [],\n",
       "   'films': ['https://swapi.dev/api/films/1/'],\n",
       "   'created': '2014-12-10T16:01:52.434000Z',\n",
       "   'edited': '2014-12-20T21:30:21.665000Z',\n",
       "   'url': 'https://swapi.dev/api/vehicles/6/'},\n",
       "  {'name': 'X-34 landspeeder',\n",
       "   'model': 'X-34 landspeeder',\n",
       "   'manufacturer': 'SoroSuub Corporation',\n",
       "   'cost_in_credits': '10550',\n",
       "   'length': '3.4 ',\n",
       "   'max_atmosphering_speed': '250',\n",
       "   'crew': '1',\n",
       "   'passengers': '1',\n",
       "   'cargo_capacity': '5',\n",
       "   'consumables': 'unknown',\n",
       "   'vehicle_class': 'repulsorcraft',\n",
       "   'pilots': [],\n",
       "   'films': ['https://swapi.dev/api/films/1/'],\n",
       "   'created': '2014-12-10T16:13:52.586000Z',\n",
       "   'edited': '2014-12-20T21:30:21.668000Z',\n",
       "   'url': 'https://swapi.dev/api/vehicles/7/'},\n",
       "  {'name': 'TIE/LN starfighter',\n",
       "   'model': 'Twin Ion Engine/Ln Starfighter',\n",
       "   'manufacturer': 'Sienar Fleet Systems',\n",
       "   'cost_in_credits': 'unknown',\n",
       "   'length': '6.4',\n",
       "   'max_atmosphering_speed': '1200',\n",
       "   'crew': '1',\n",
       "   'passengers': '0',\n",
       "   'cargo_capacity': '65',\n",
       "   'consumables': '2 days',\n",
       "   'vehicle_class': 'starfighter',\n",
       "   'pilots': [],\n",
       "   'films': ['https://swapi.dev/api/films/1/',\n",
       "    'https://swapi.dev/api/films/2/',\n",
       "    'https://swapi.dev/api/films/3/'],\n",
       "   'created': '2014-12-10T16:33:52.860000Z',\n",
       "   'edited': '2014-12-20T21:30:21.670000Z',\n",
       "   'url': 'https://swapi.dev/api/vehicles/8/'},\n",
       "  {'name': 'Snowspeeder',\n",
       "   'model': 't-47 airspeeder',\n",
       "   'manufacturer': 'Incom corporation',\n",
       "   'cost_in_credits': 'unknown',\n",
       "   'length': '4.5',\n",
       "   'max_atmosphering_speed': '650',\n",
       "   'crew': '2',\n",
       "   'passengers': '0',\n",
       "   'cargo_capacity': '10',\n",
       "   'consumables': 'none',\n",
       "   'vehicle_class': 'airspeeder',\n",
       "   'pilots': ['https://swapi.dev/api/people/1/',\n",
       "    'https://swapi.dev/api/people/18/'],\n",
       "   'films': ['https://swapi.dev/api/films/2/'],\n",
       "   'created': '2014-12-15T12:22:12Z',\n",
       "   'edited': '2014-12-20T21:30:21.672000Z',\n",
       "   'url': 'https://swapi.dev/api/vehicles/14/'},\n",
       "  {'name': 'TIE bomber',\n",
       "   'model': 'TIE/sa bomber',\n",
       "   'manufacturer': 'Sienar Fleet Systems',\n",
       "   'cost_in_credits': 'unknown',\n",
       "   'length': '7.8',\n",
       "   'max_atmosphering_speed': '850',\n",
       "   'crew': '1',\n",
       "   'passengers': '0',\n",
       "   'cargo_capacity': 'none',\n",
       "   'consumables': '2 days',\n",
       "   'vehicle_class': 'space/planetary bomber',\n",
       "   'pilots': [],\n",
       "   'films': ['https://swapi.dev/api/films/2/',\n",
       "    'https://swapi.dev/api/films/3/'],\n",
       "   'created': '2014-12-15T12:33:15.838000Z',\n",
       "   'edited': '2014-12-20T21:30:21.675000Z',\n",
       "   'url': 'https://swapi.dev/api/vehicles/16/'},\n",
       "  {'name': 'AT-AT',\n",
       "   'model': 'All Terrain Armored Transport',\n",
       "   'manufacturer': 'Kuat Drive Yards, Imperial Department of Military Research',\n",
       "   'cost_in_credits': 'unknown',\n",
       "   'length': '20',\n",
       "   'max_atmosphering_speed': '60',\n",
       "   'crew': '5',\n",
       "   'passengers': '40',\n",
       "   'cargo_capacity': '1000',\n",
       "   'consumables': 'unknown',\n",
       "   'vehicle_class': 'assault walker',\n",
       "   'pilots': [],\n",
       "   'films': ['https://swapi.dev/api/films/2/',\n",
       "    'https://swapi.dev/api/films/3/'],\n",
       "   'created': '2014-12-15T12:38:25.937000Z',\n",
       "   'edited': '2014-12-20T21:30:21.677000Z',\n",
       "   'url': 'https://swapi.dev/api/vehicles/18/'},\n",
       "  {'name': 'AT-ST',\n",
       "   'model': 'All Terrain Scout Transport',\n",
       "   'manufacturer': 'Kuat Drive Yards, Imperial Department of Military Research',\n",
       "   'cost_in_credits': 'unknown',\n",
       "   'length': '2',\n",
       "   'max_atmosphering_speed': '90',\n",
       "   'crew': '2',\n",
       "   'passengers': '0',\n",
       "   'cargo_capacity': '200',\n",
       "   'consumables': 'none',\n",
       "   'vehicle_class': 'walker',\n",
       "   'pilots': ['https://swapi.dev/api/people/13/'],\n",
       "   'films': ['https://swapi.dev/api/films/2/',\n",
       "    'https://swapi.dev/api/films/3/'],\n",
       "   'created': '2014-12-15T12:46:42.384000Z',\n",
       "   'edited': '2014-12-20T21:30:21.679000Z',\n",
       "   'url': 'https://swapi.dev/api/vehicles/19/'},\n",
       "  {'name': 'Storm IV Twin-Pod cloud car',\n",
       "   'model': 'Storm IV Twin-Pod',\n",
       "   'manufacturer': 'Bespin Motors',\n",
       "   'cost_in_credits': '75000',\n",
       "   'length': '7',\n",
       "   'max_atmosphering_speed': '1500',\n",
       "   'crew': '2',\n",
       "   'passengers': '0',\n",
       "   'cargo_capacity': '10',\n",
       "   'consumables': '1 day',\n",
       "   'vehicle_class': 'repulsorcraft',\n",
       "   'pilots': [],\n",
       "   'films': ['https://swapi.dev/api/films/2/'],\n",
       "   'created': '2014-12-15T12:58:50.530000Z',\n",
       "   'edited': '2014-12-20T21:30:21.681000Z',\n",
       "   'url': 'https://swapi.dev/api/vehicles/20/'},\n",
       "  {'name': 'Sail barge',\n",
       "   'model': 'Modified Luxury Sail Barge',\n",
       "   'manufacturer': 'Ubrikkian Industries Custom Vehicle Division',\n",
       "   'cost_in_credits': '285000',\n",
       "   'length': '30',\n",
       "   'max_atmosphering_speed': '100',\n",
       "   'crew': '26',\n",
       "   'passengers': '500',\n",
       "   'cargo_capacity': '2000000',\n",
       "   'consumables': 'Live food tanks',\n",
       "   'vehicle_class': 'sail barge',\n",
       "   'pilots': [],\n",
       "   'films': ['https://swapi.dev/api/films/3/'],\n",
       "   'created': '2014-12-18T10:44:14.217000Z',\n",
       "   'edited': '2014-12-20T21:30:21.684000Z',\n",
       "   'url': 'https://swapi.dev/api/vehicles/24/'}]}"
      ]
     },
     "execution_count": 83,
     "metadata": {},
     "output_type": "execute_result"
    }
   ],
   "source": [
    "vehicles_json = requests.get('https://swapi.dev/api/vehicles/').json()\n",
    "vehicles_json"
   ]
  },
  {
   "cell_type": "markdown",
   "metadata": {},
   "source": [
    "Looks like the actual data is stored in a key called `results`"
   ]
  },
  {
   "cell_type": "code",
   "execution_count": 84,
   "metadata": {},
   "outputs": [
    {
     "data": {
      "text/plain": [
       "dict_keys(['count', 'next', 'previous', 'results'])"
      ]
     },
     "execution_count": 84,
     "metadata": {},
     "output_type": "execute_result"
    }
   ],
   "source": [
    "vehicles_json.keys()"
   ]
  },
  {
   "cell_type": "markdown",
   "metadata": {},
   "source": [
    "Which is a Python list"
   ]
  },
  {
   "cell_type": "code",
   "execution_count": 85,
   "metadata": {
    "scrolled": true,
    "tags": []
   },
   "outputs": [
    {
     "data": {
      "text/plain": [
       "[{'name': 'Sand Crawler',\n",
       "  'model': 'Digger Crawler',\n",
       "  'manufacturer': 'Corellia Mining Corporation',\n",
       "  'cost_in_credits': '150000',\n",
       "  'length': '36.8 ',\n",
       "  'max_atmosphering_speed': '30',\n",
       "  'crew': '46',\n",
       "  'passengers': '30',\n",
       "  'cargo_capacity': '50000',\n",
       "  'consumables': '2 months',\n",
       "  'vehicle_class': 'wheeled',\n",
       "  'pilots': [],\n",
       "  'films': ['https://swapi.dev/api/films/1/',\n",
       "   'https://swapi.dev/api/films/5/'],\n",
       "  'created': '2014-12-10T15:36:25.724000Z',\n",
       "  'edited': '2014-12-20T21:30:21.661000Z',\n",
       "  'url': 'https://swapi.dev/api/vehicles/4/'},\n",
       " {'name': 'T-16 skyhopper',\n",
       "  'model': 'T-16 skyhopper',\n",
       "  'manufacturer': 'Incom Corporation',\n",
       "  'cost_in_credits': '14500',\n",
       "  'length': '10.4 ',\n",
       "  'max_atmosphering_speed': '1200',\n",
       "  'crew': '1',\n",
       "  'passengers': '1',\n",
       "  'cargo_capacity': '50',\n",
       "  'consumables': '0',\n",
       "  'vehicle_class': 'repulsorcraft',\n",
       "  'pilots': [],\n",
       "  'films': ['https://swapi.dev/api/films/1/'],\n",
       "  'created': '2014-12-10T16:01:52.434000Z',\n",
       "  'edited': '2014-12-20T21:30:21.665000Z',\n",
       "  'url': 'https://swapi.dev/api/vehicles/6/'},\n",
       " {'name': 'X-34 landspeeder',\n",
       "  'model': 'X-34 landspeeder',\n",
       "  'manufacturer': 'SoroSuub Corporation',\n",
       "  'cost_in_credits': '10550',\n",
       "  'length': '3.4 ',\n",
       "  'max_atmosphering_speed': '250',\n",
       "  'crew': '1',\n",
       "  'passengers': '1',\n",
       "  'cargo_capacity': '5',\n",
       "  'consumables': 'unknown',\n",
       "  'vehicle_class': 'repulsorcraft',\n",
       "  'pilots': [],\n",
       "  'films': ['https://swapi.dev/api/films/1/'],\n",
       "  'created': '2014-12-10T16:13:52.586000Z',\n",
       "  'edited': '2014-12-20T21:30:21.668000Z',\n",
       "  'url': 'https://swapi.dev/api/vehicles/7/'},\n",
       " {'name': 'TIE/LN starfighter',\n",
       "  'model': 'Twin Ion Engine/Ln Starfighter',\n",
       "  'manufacturer': 'Sienar Fleet Systems',\n",
       "  'cost_in_credits': 'unknown',\n",
       "  'length': '6.4',\n",
       "  'max_atmosphering_speed': '1200',\n",
       "  'crew': '1',\n",
       "  'passengers': '0',\n",
       "  'cargo_capacity': '65',\n",
       "  'consumables': '2 days',\n",
       "  'vehicle_class': 'starfighter',\n",
       "  'pilots': [],\n",
       "  'films': ['https://swapi.dev/api/films/1/',\n",
       "   'https://swapi.dev/api/films/2/',\n",
       "   'https://swapi.dev/api/films/3/'],\n",
       "  'created': '2014-12-10T16:33:52.860000Z',\n",
       "  'edited': '2014-12-20T21:30:21.670000Z',\n",
       "  'url': 'https://swapi.dev/api/vehicles/8/'},\n",
       " {'name': 'Snowspeeder',\n",
       "  'model': 't-47 airspeeder',\n",
       "  'manufacturer': 'Incom corporation',\n",
       "  'cost_in_credits': 'unknown',\n",
       "  'length': '4.5',\n",
       "  'max_atmosphering_speed': '650',\n",
       "  'crew': '2',\n",
       "  'passengers': '0',\n",
       "  'cargo_capacity': '10',\n",
       "  'consumables': 'none',\n",
       "  'vehicle_class': 'airspeeder',\n",
       "  'pilots': ['https://swapi.dev/api/people/1/',\n",
       "   'https://swapi.dev/api/people/18/'],\n",
       "  'films': ['https://swapi.dev/api/films/2/'],\n",
       "  'created': '2014-12-15T12:22:12Z',\n",
       "  'edited': '2014-12-20T21:30:21.672000Z',\n",
       "  'url': 'https://swapi.dev/api/vehicles/14/'},\n",
       " {'name': 'TIE bomber',\n",
       "  'model': 'TIE/sa bomber',\n",
       "  'manufacturer': 'Sienar Fleet Systems',\n",
       "  'cost_in_credits': 'unknown',\n",
       "  'length': '7.8',\n",
       "  'max_atmosphering_speed': '850',\n",
       "  'crew': '1',\n",
       "  'passengers': '0',\n",
       "  'cargo_capacity': 'none',\n",
       "  'consumables': '2 days',\n",
       "  'vehicle_class': 'space/planetary bomber',\n",
       "  'pilots': [],\n",
       "  'films': ['https://swapi.dev/api/films/2/',\n",
       "   'https://swapi.dev/api/films/3/'],\n",
       "  'created': '2014-12-15T12:33:15.838000Z',\n",
       "  'edited': '2014-12-20T21:30:21.675000Z',\n",
       "  'url': 'https://swapi.dev/api/vehicles/16/'},\n",
       " {'name': 'AT-AT',\n",
       "  'model': 'All Terrain Armored Transport',\n",
       "  'manufacturer': 'Kuat Drive Yards, Imperial Department of Military Research',\n",
       "  'cost_in_credits': 'unknown',\n",
       "  'length': '20',\n",
       "  'max_atmosphering_speed': '60',\n",
       "  'crew': '5',\n",
       "  'passengers': '40',\n",
       "  'cargo_capacity': '1000',\n",
       "  'consumables': 'unknown',\n",
       "  'vehicle_class': 'assault walker',\n",
       "  'pilots': [],\n",
       "  'films': ['https://swapi.dev/api/films/2/',\n",
       "   'https://swapi.dev/api/films/3/'],\n",
       "  'created': '2014-12-15T12:38:25.937000Z',\n",
       "  'edited': '2014-12-20T21:30:21.677000Z',\n",
       "  'url': 'https://swapi.dev/api/vehicles/18/'},\n",
       " {'name': 'AT-ST',\n",
       "  'model': 'All Terrain Scout Transport',\n",
       "  'manufacturer': 'Kuat Drive Yards, Imperial Department of Military Research',\n",
       "  'cost_in_credits': 'unknown',\n",
       "  'length': '2',\n",
       "  'max_atmosphering_speed': '90',\n",
       "  'crew': '2',\n",
       "  'passengers': '0',\n",
       "  'cargo_capacity': '200',\n",
       "  'consumables': 'none',\n",
       "  'vehicle_class': 'walker',\n",
       "  'pilots': ['https://swapi.dev/api/people/13/'],\n",
       "  'films': ['https://swapi.dev/api/films/2/',\n",
       "   'https://swapi.dev/api/films/3/'],\n",
       "  'created': '2014-12-15T12:46:42.384000Z',\n",
       "  'edited': '2014-12-20T21:30:21.679000Z',\n",
       "  'url': 'https://swapi.dev/api/vehicles/19/'},\n",
       " {'name': 'Storm IV Twin-Pod cloud car',\n",
       "  'model': 'Storm IV Twin-Pod',\n",
       "  'manufacturer': 'Bespin Motors',\n",
       "  'cost_in_credits': '75000',\n",
       "  'length': '7',\n",
       "  'max_atmosphering_speed': '1500',\n",
       "  'crew': '2',\n",
       "  'passengers': '0',\n",
       "  'cargo_capacity': '10',\n",
       "  'consumables': '1 day',\n",
       "  'vehicle_class': 'repulsorcraft',\n",
       "  'pilots': [],\n",
       "  'films': ['https://swapi.dev/api/films/2/'],\n",
       "  'created': '2014-12-15T12:58:50.530000Z',\n",
       "  'edited': '2014-12-20T21:30:21.681000Z',\n",
       "  'url': 'https://swapi.dev/api/vehicles/20/'},\n",
       " {'name': 'Sail barge',\n",
       "  'model': 'Modified Luxury Sail Barge',\n",
       "  'manufacturer': 'Ubrikkian Industries Custom Vehicle Division',\n",
       "  'cost_in_credits': '285000',\n",
       "  'length': '30',\n",
       "  'max_atmosphering_speed': '100',\n",
       "  'crew': '26',\n",
       "  'passengers': '500',\n",
       "  'cargo_capacity': '2000000',\n",
       "  'consumables': 'Live food tanks',\n",
       "  'vehicle_class': 'sail barge',\n",
       "  'pilots': [],\n",
       "  'films': ['https://swapi.dev/api/films/3/'],\n",
       "  'created': '2014-12-18T10:44:14.217000Z',\n",
       "  'edited': '2014-12-20T21:30:21.684000Z',\n",
       "  'url': 'https://swapi.dev/api/vehicles/24/'}]"
      ]
     },
     "execution_count": 85,
     "metadata": {},
     "output_type": "execute_result"
    }
   ],
   "source": [
    "vehicles_json['results']"
   ]
  },
  {
   "cell_type": "code",
   "execution_count": 86,
   "metadata": {},
   "outputs": [
    {
     "data": {
      "text/plain": [
       "list"
      ]
     },
     "execution_count": 86,
     "metadata": {},
     "output_type": "execute_result"
    }
   ],
   "source": [
    "type(vehicles_json['results'])"
   ]
  },
  {
   "cell_type": "code",
   "execution_count": 90,
   "metadata": {},
   "outputs": [
    {
     "data": {
      "text/plain": [
       "39"
      ]
     },
     "execution_count": 90,
     "metadata": {},
     "output_type": "execute_result"
    }
   ],
   "source": [
    "vehicles_json['count']"
   ]
  },
  {
   "cell_type": "code",
   "execution_count": 87,
   "metadata": {},
   "outputs": [
    {
     "data": {
      "text/plain": [
       "10"
      ]
     },
     "execution_count": 87,
     "metadata": {},
     "output_type": "execute_result"
    }
   ],
   "source": [
    "len(vehicles_json['results'])"
   ]
  },
  {
   "cell_type": "markdown",
   "metadata": {},
   "source": [
    "Working with JSON and dictionaries is great because it's very standardised, but it's not a very pretty data format to work with. \n",
    "\n",
    "Ideally we want a way of working with this data in Python using `pandas`.\n",
    "\n",
    "Let's take a look at how easy it is to convert JSON/dictionaries into a ```DataFrame```."
   ]
  },
  {
   "cell_type": "code",
   "execution_count": 91,
   "metadata": {},
   "outputs": [
    {
     "data": {
      "text/html": [
       "<div>\n",
       "<style scoped>\n",
       "    .dataframe tbody tr th:only-of-type {\n",
       "        vertical-align: middle;\n",
       "    }\n",
       "\n",
       "    .dataframe tbody tr th {\n",
       "        vertical-align: top;\n",
       "    }\n",
       "\n",
       "    .dataframe thead th {\n",
       "        text-align: right;\n",
       "    }\n",
       "</style>\n",
       "<table border=\"1\" class=\"dataframe\">\n",
       "  <thead>\n",
       "    <tr style=\"text-align: right;\">\n",
       "      <th></th>\n",
       "      <th>name</th>\n",
       "      <th>model</th>\n",
       "      <th>manufacturer</th>\n",
       "      <th>cost_in_credits</th>\n",
       "      <th>length</th>\n",
       "      <th>max_atmosphering_speed</th>\n",
       "      <th>crew</th>\n",
       "      <th>passengers</th>\n",
       "      <th>cargo_capacity</th>\n",
       "      <th>consumables</th>\n",
       "      <th>vehicle_class</th>\n",
       "      <th>pilots</th>\n",
       "      <th>films</th>\n",
       "      <th>created</th>\n",
       "      <th>edited</th>\n",
       "      <th>url</th>\n",
       "    </tr>\n",
       "  </thead>\n",
       "  <tbody>\n",
       "    <tr>\n",
       "      <th>0</th>\n",
       "      <td>Sand Crawler</td>\n",
       "      <td>Digger Crawler</td>\n",
       "      <td>Corellia Mining Corporation</td>\n",
       "      <td>150000</td>\n",
       "      <td>36.8</td>\n",
       "      <td>30</td>\n",
       "      <td>46</td>\n",
       "      <td>30</td>\n",
       "      <td>50000</td>\n",
       "      <td>2 months</td>\n",
       "      <td>wheeled</td>\n",
       "      <td>[]</td>\n",
       "      <td>[https://swapi.dev/api/films/1/, https://swapi...</td>\n",
       "      <td>2014-12-10T15:36:25.724000Z</td>\n",
       "      <td>2014-12-20T21:30:21.661000Z</td>\n",
       "      <td>https://swapi.dev/api/vehicles/4/</td>\n",
       "    </tr>\n",
       "    <tr>\n",
       "      <th>1</th>\n",
       "      <td>T-16 skyhopper</td>\n",
       "      <td>T-16 skyhopper</td>\n",
       "      <td>Incom Corporation</td>\n",
       "      <td>14500</td>\n",
       "      <td>10.4</td>\n",
       "      <td>1200</td>\n",
       "      <td>1</td>\n",
       "      <td>1</td>\n",
       "      <td>50</td>\n",
       "      <td>0</td>\n",
       "      <td>repulsorcraft</td>\n",
       "      <td>[]</td>\n",
       "      <td>[https://swapi.dev/api/films/1/]</td>\n",
       "      <td>2014-12-10T16:01:52.434000Z</td>\n",
       "      <td>2014-12-20T21:30:21.665000Z</td>\n",
       "      <td>https://swapi.dev/api/vehicles/6/</td>\n",
       "    </tr>\n",
       "    <tr>\n",
       "      <th>2</th>\n",
       "      <td>X-34 landspeeder</td>\n",
       "      <td>X-34 landspeeder</td>\n",
       "      <td>SoroSuub Corporation</td>\n",
       "      <td>10550</td>\n",
       "      <td>3.4</td>\n",
       "      <td>250</td>\n",
       "      <td>1</td>\n",
       "      <td>1</td>\n",
       "      <td>5</td>\n",
       "      <td>unknown</td>\n",
       "      <td>repulsorcraft</td>\n",
       "      <td>[]</td>\n",
       "      <td>[https://swapi.dev/api/films/1/]</td>\n",
       "      <td>2014-12-10T16:13:52.586000Z</td>\n",
       "      <td>2014-12-20T21:30:21.668000Z</td>\n",
       "      <td>https://swapi.dev/api/vehicles/7/</td>\n",
       "    </tr>\n",
       "    <tr>\n",
       "      <th>3</th>\n",
       "      <td>TIE/LN starfighter</td>\n",
       "      <td>Twin Ion Engine/Ln Starfighter</td>\n",
       "      <td>Sienar Fleet Systems</td>\n",
       "      <td>unknown</td>\n",
       "      <td>6.4</td>\n",
       "      <td>1200</td>\n",
       "      <td>1</td>\n",
       "      <td>0</td>\n",
       "      <td>65</td>\n",
       "      <td>2 days</td>\n",
       "      <td>starfighter</td>\n",
       "      <td>[]</td>\n",
       "      <td>[https://swapi.dev/api/films/1/, https://swapi...</td>\n",
       "      <td>2014-12-10T16:33:52.860000Z</td>\n",
       "      <td>2014-12-20T21:30:21.670000Z</td>\n",
       "      <td>https://swapi.dev/api/vehicles/8/</td>\n",
       "    </tr>\n",
       "    <tr>\n",
       "      <th>4</th>\n",
       "      <td>Snowspeeder</td>\n",
       "      <td>t-47 airspeeder</td>\n",
       "      <td>Incom corporation</td>\n",
       "      <td>unknown</td>\n",
       "      <td>4.5</td>\n",
       "      <td>650</td>\n",
       "      <td>2</td>\n",
       "      <td>0</td>\n",
       "      <td>10</td>\n",
       "      <td>none</td>\n",
       "      <td>airspeeder</td>\n",
       "      <td>[https://swapi.dev/api/people/1/, https://swap...</td>\n",
       "      <td>[https://swapi.dev/api/films/2/]</td>\n",
       "      <td>2014-12-15T12:22:12Z</td>\n",
       "      <td>2014-12-20T21:30:21.672000Z</td>\n",
       "      <td>https://swapi.dev/api/vehicles/14/</td>\n",
       "    </tr>\n",
       "  </tbody>\n",
       "</table>\n",
       "</div>"
      ],
      "text/plain": [
       "                 name                           model  \\\n",
       "0        Sand Crawler                  Digger Crawler   \n",
       "1      T-16 skyhopper                  T-16 skyhopper   \n",
       "2    X-34 landspeeder                X-34 landspeeder   \n",
       "3  TIE/LN starfighter  Twin Ion Engine/Ln Starfighter   \n",
       "4         Snowspeeder                 t-47 airspeeder   \n",
       "\n",
       "                  manufacturer cost_in_credits length max_atmosphering_speed  \\\n",
       "0  Corellia Mining Corporation          150000  36.8                      30   \n",
       "1            Incom Corporation           14500  10.4                    1200   \n",
       "2         SoroSuub Corporation           10550   3.4                     250   \n",
       "3         Sienar Fleet Systems         unknown    6.4                   1200   \n",
       "4            Incom corporation         unknown    4.5                    650   \n",
       "\n",
       "  crew passengers cargo_capacity consumables  vehicle_class  \\\n",
       "0   46         30          50000    2 months        wheeled   \n",
       "1    1          1             50           0  repulsorcraft   \n",
       "2    1          1              5     unknown  repulsorcraft   \n",
       "3    1          0             65      2 days    starfighter   \n",
       "4    2          0             10        none     airspeeder   \n",
       "\n",
       "                                              pilots  \\\n",
       "0                                                 []   \n",
       "1                                                 []   \n",
       "2                                                 []   \n",
       "3                                                 []   \n",
       "4  [https://swapi.dev/api/people/1/, https://swap...   \n",
       "\n",
       "                                               films  \\\n",
       "0  [https://swapi.dev/api/films/1/, https://swapi...   \n",
       "1                   [https://swapi.dev/api/films/1/]   \n",
       "2                   [https://swapi.dev/api/films/1/]   \n",
       "3  [https://swapi.dev/api/films/1/, https://swapi...   \n",
       "4                   [https://swapi.dev/api/films/2/]   \n",
       "\n",
       "                       created                       edited  \\\n",
       "0  2014-12-10T15:36:25.724000Z  2014-12-20T21:30:21.661000Z   \n",
       "1  2014-12-10T16:01:52.434000Z  2014-12-20T21:30:21.665000Z   \n",
       "2  2014-12-10T16:13:52.586000Z  2014-12-20T21:30:21.668000Z   \n",
       "3  2014-12-10T16:33:52.860000Z  2014-12-20T21:30:21.670000Z   \n",
       "4         2014-12-15T12:22:12Z  2014-12-20T21:30:21.672000Z   \n",
       "\n",
       "                                  url  \n",
       "0   https://swapi.dev/api/vehicles/4/  \n",
       "1   https://swapi.dev/api/vehicles/6/  \n",
       "2   https://swapi.dev/api/vehicles/7/  \n",
       "3   https://swapi.dev/api/vehicles/8/  \n",
       "4  https://swapi.dev/api/vehicles/14/  "
      ]
     },
     "execution_count": 91,
     "metadata": {},
     "output_type": "execute_result"
    }
   ],
   "source": [
    "import pandas as pd\n",
    "\n",
    "vehicles = pd.DataFrame(vehicles_json['results'])\n",
    "vehicles.head()"
   ]
  },
  {
   "cell_type": "markdown",
   "metadata": {},
   "source": [
    "Because `vehicles_json[\"results\"]` is a list of dictionaries (that correspond to individual entries in a table) we can use the list to initialise a DataFrame, and the right column names will be picked up. We can then analyse this data like any other!\n",
    "\n",
    "Just beware that the only problem is the data will be all strings by default!"
   ]
  },
  {
   "cell_type": "markdown",
   "metadata": {},
   "source": [
    "#  API parameters\n",
    "---\n",
    "    \n",
    "To allow more targeted data access, most APIs have additional *parameters* you can use to filter the results accordingly.\n",
    "    \n",
    "According to the API documentation _\"All resources support a search parameter that filters the set of resources returned.\"_ and the [vehicles API documentation](https://swapi.dev/documentation#vehicles) tells us we can search on the `name` field (i.e. search for a vehicle by name).\n",
    "    \n",
    "In most cases it is as simple as appending the parameters to the end of the url:"
   ]
  },
  {
   "cell_type": "code",
   "execution_count": null,
   "metadata": {},
   "outputs": [],
   "source": []
  },
  {
   "cell_type": "markdown",
   "metadata": {},
   "source": [
    "The `?` separates the url from the parameters, which are specified in a `key=value` format (separated by an `&` if we use multiple parameters)"
   ]
  },
  {
   "cell_type": "markdown",
   "metadata": {},
   "source": [
    "## <font color='green'> Exercise 2: Star Wars\n",
    "---\n",
    "\n",
    "Now let's use our knowledge of APIs to explore some data about the different species within the Star Wars universe.\n",
    "\n",
    "Here is the specific documentation: [Species API](https://swapi.dev/documentation#species)\n",
    "    \n",
    "First identify the correct url for the `species` API and return some results:"
   ]
  },
  {
   "cell_type": "code",
   "execution_count": null,
   "metadata": {},
   "outputs": [],
   "source": [
    "species_url = # FILL THIS IN\n",
    "species_result = requests.get(species_url)\n",
    "species_result.raise_for_status()"
   ]
  },
  {
   "cell_type": "markdown",
   "metadata": {},
   "source": [
    "Create a variable that contains the JSON only"
   ]
  },
  {
   "cell_type": "code",
   "execution_count": null,
   "metadata": {},
   "outputs": [],
   "source": [
    "species_json = species_result.json()\n",
    "species_json"
   ]
  },
  {
   "cell_type": "markdown",
   "metadata": {},
   "source": [
    "_Optional: put the results in a pandas DataFrame to see it as a table of data_"
   ]
  },
  {
   "cell_type": "code",
   "execution_count": null,
   "metadata": {},
   "outputs": [],
   "source": []
  },
  {
   "cell_type": "markdown",
   "metadata": {},
   "source": [
    "Use your knowledge of the returned JSON data, and Python dictionaries, to find out how many results you got. How many were you expecting based on the `count` returned in the API?"
   ]
  },
  {
   "cell_type": "code",
   "execution_count": null,
   "metadata": {},
   "outputs": [],
   "source": []
  },
  {
   "cell_type": "markdown",
   "metadata": {},
   "source": [
    "Looks like the results are **paginated** meaning we can only get 10 results at a time.\n",
    "\n",
    "What is the url (including the parameter) to get the next page of results?"
   ]
  },
  {
   "cell_type": "code",
   "execution_count": null,
   "metadata": {},
   "outputs": [],
   "source": []
  },
  {
   "cell_type": "markdown",
   "metadata": {},
   "source": [
    "Let's collect all the species data now, by combining the paginated data.\n",
    "\n",
    "Write some code (or even a `for` loop if know how!) to get subsequent pages of results.\n",
    "\n",
    "You will need to:\n",
    "\n",
    "- change the relevant parameter each time to get the next page of results\n",
    "- for each page, store the results in a list\n",
    "- keep adding each page's worth of results to a \"master\" list of results (hint: you can use the `extend` method on a list)\n",
    "\n",
    "Verify that you have the correct number of records in your list."
   ]
  },
  {
   "cell_type": "code",
   "execution_count": null,
   "metadata": {},
   "outputs": [],
   "source": []
  },
  {
   "cell_type": "markdown",
   "metadata": {},
   "source": [
    "##  Authentication\n",
    "\n",
    "---\n",
    "    \n",
    "In this exercise we will play around with a new API, published by Transport for London.\n",
    "    \n",
    "Unline the previous examples, this one requires authentication.\n",
    "\n",
    "Go to https://api-portal.tfl.gov.uk/signup and register your details, if you haven't already.\n",
    "\n",
    "Once your email has been verified, sign in and go to https://api-portal.tfl.gov.uk/product#product=2357355709892 to get a free API key that allows 500 requests per minute.\n",
    "\n",
    "Once you've successfully requested it, your API key can be retrieved from your profile: https://api-portal.tfl.gov.uk/profile. You'll need to click on \"show\" to actually show the key on the page.\n",
    "\n",
    "Now you've obtained your key, using it in this particular instance is as easy as appending a new parameter:"
   ]
  },
  {
   "cell_type": "code",
   "execution_count": null,
   "metadata": {},
   "outputs": [],
   "source": [
    "# for example, let's look at live disruption information\n",
    "url = \"https://api.tfl.gov.uk/Line/Mode/tube/Disruption\"\n",
    "\n",
    "# remember to keep this private!\n",
    "API_KEY = \"\"\n",
    "\n",
    "# append the API key\n",
    "tfl = requests.get(f\"{url}?app_key={API_KEY}\")\n",
    "\n",
    "print(tfl.status_code)\n",
    "tfl.json()"
   ]
  },
  {
   "cell_type": "markdown",
   "metadata": {},
   "source": [
    "## <font color='green'> Exercise 3: Transport for London</font>\n",
    "---\n",
    "\n",
    "Now it's time to answer some research questions using the API.\n",
    "\n",
    "### 1. Are there currently any lift disruptions? If so, how many?\n",
    "\n",
    "First, read the documentation to find out the url to get data on lift disruptions."
   ]
  },
  {
   "cell_type": "code",
   "execution_count": null,
   "metadata": {},
   "outputs": [],
   "source": []
  },
  {
   "cell_type": "markdown",
   "metadata": {},
   "source": [
    "Using the url and its parameter(s) find out how many accidents happened in the years 2019, 2020, and 2021.\n",
    "\n",
    "Remember to include your API key!\n"
   ]
  },
  {
   "cell_type": "code",
   "execution_count": null,
   "metadata": {},
   "outputs": [],
   "source": []
  },
  {
   "cell_type": "markdown",
   "metadata": {},
   "source": [
    "### 2. How many bike points are there around Hyde Park?\n",
    "\n",
    "Find the API endpoint that lets you search for bike points by location, then use the string \"Hyde Park\" to answer the question.\n",
    "\n",
    "Remember to include your API key!"
   ]
  },
  {
   "cell_type": "code",
   "execution_count": null,
   "metadata": {},
   "outputs": [],
   "source": []
  },
  {
   "cell_type": "markdown",
   "metadata": {},
   "source": [
    "### 3. Find out how many stations there are along the Victoria line.\n",
    "\n",
    "First, identify the correct endpoint on the [Line page](https://api-portal.tfl.gov.uk/api-details#api=Line)\n",
    "\n",
    "Remember to include your API key!"
   ]
  },
  {
   "cell_type": "code",
   "execution_count": null,
   "metadata": {},
   "outputs": [],
   "source": []
  }
 ],
 "metadata": {
  "colab": {
   "name": "intro_to_python.ipynb",
   "provenance": []
  },
  "kernelspec": {
   "display_name": "Python 3 (ipykernel)",
   "language": "python",
   "name": "python3"
  },
  "language_info": {
   "codemirror_mode": {
    "name": "ipython",
    "version": 3
   },
   "file_extension": ".py",
   "mimetype": "text/x-python",
   "name": "python",
   "nbconvert_exporter": "python",
   "pygments_lexer": "ipython3",
   "version": "3.9.13"
  }
 },
 "nbformat": 4,
 "nbformat_minor": 4
}
